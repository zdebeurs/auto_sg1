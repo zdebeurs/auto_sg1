{
 "cells": [
  {
   "cell_type": "code",
   "execution_count": 7,
   "id": "b60b3a7b",
   "metadata": {},
   "outputs": [],
   "source": [
    "# Code written by Zoe de Beurs. Tutorial modified from https://github.com/evertrol/mpyfit \n",
    "\n",
    "import numpy\n",
    "import mpyfit\n",
    "import matplotlib.pylab as plt"
   ]
  },
  {
   "cell_type": "code",
   "execution_count": 2,
   "id": "4a9af7c1",
   "metadata": {},
   "outputs": [],
   "source": [
    "# Define the actual function\n",
    "def func(x, p):\n",
    "    return p[0] + p[1] * numpy.sin(p[2]*x - p[3])"
   ]
  },
  {
   "cell_type": "code",
   "execution_count": 3,
   "id": "59e29ba8",
   "metadata": {},
   "outputs": [],
   "source": [
    "# A simple minimization function:\n",
    "def least(p, args):\n",
    "    x, y = args\n",
    "    return func(x, p) - y"
   ]
  },
  {
   "cell_type": "code",
   "execution_count": 26,
   "id": "a7a53e2a",
   "metadata": {},
   "outputs": [],
   "source": [
    "# Generate data\n",
    "p = [1, 1.5, 0.2, 0.5]\n",
    "x = numpy.linspace(-20, 10, 30)\n",
    "y = func(x, p)\n",
    "# Add some noise\n",
    "y += numpy.random.normal(0, 0.05, y.shape)\n",
    "\n",
    "# choose starting values for parameter you are trying to fit\n",
    "pstart = [1, 1, 0.1, 1]\n",
    "\n",
    "# choose step sizes for those parameters\n",
    "parinfo = [{'fixed': False, 'step': 1e-3},\n",
    "           {'fixed': False, 'step': 1e-2},\n",
    "           {'fixed': False, 'step': 1e-3},\n",
    "           {'fixed': False, 'step': 1e-2}]\n",
    "\n",
    "pfit, results = mpyfit.fit(least, pstart, (x, y), parinfo)"
   ]
  },
  {
   "cell_type": "code",
   "execution_count": 27,
   "id": "63db9cdf",
   "metadata": {},
   "outputs": [
    {
     "data": {
      "text/plain": [
       "<matplotlib.legend.Legend at 0x7ff0780d6220>"
      ]
     },
     "execution_count": 27,
     "metadata": {},
     "output_type": "execute_result"
    },
    {
     "data": {
      "image/png": "[encoded data removed]",
      "text/plain": [
       "<Figure size 432x288 with 1 Axes>"
      ]
     },
     "metadata": {
      "needs_background": "light"
     },
     "output_type": "display_data"
    }
   ],
   "source": [
    "# plot the resulting fit\n",
    "\n",
    "# generate closely spaced x_values with the same xmin and xmax as the simulated data\n",
    "x_closely_spaced = numpy.linspace(-20, 10, 100)\n",
    "\n",
    "# plot simulated data\n",
    "plt.plot(x, y, \".\", label=\"data\")\n",
    "\n",
    "# plot your fit\n",
    "plt.plot(x_closely_spaced, func(x_closely_spaced, pfit), \n",
    "         label=\"model fit: %.2f*sin(%.2f * x - %.2f) + %.2f\"%(pfit[1], pfit[2], pfit[3], pfit[0]))\n",
    "plt.legend()"
   ]
  },
  {
   "cell_type": "code",
   "execution_count": 5,
   "id": "0e8a0d27",
   "metadata": {},
   "outputs": [
    {
     "name": "stdout",
     "output_type": "stream",
     "text": [
      "[1.0, 1.5, 0.2, 0.5]\n"
     ]
    }
   ],
   "source": [
    "# print your fit\n",
    "print([round(p, 1) for p in pfit]) "
   ]
  },
  {
   "cell_type": "code",
   "execution_count": 19,
   "id": "c8d253c2",
   "metadata": {},
   "outputs": [
    {
     "data": {
      "text/plain": [
       "array([0.98845399, 1.46498872, 0.20137873, 0.47154703])"
      ]
     },
     "execution_count": 19,
     "metadata": {},
     "output_type": "execute_result"
    }
   ],
   "source": [
    "pfit"
   ]
  },
  {
   "cell_type": "code",
   "execution_count": null,
   "id": "3b4ad204",
   "metadata": {},
   "outputs": [],
   "source": []
  }
 ],
 "metadata": {
  "kernelspec": {
   "display_name": "Python 3",
   "language": "python",
   "name": "python3"
  },
  "language_info": {
   "codemirror_mode": {
    "name": "ipython",
    "version": 3
   },
   "file_extension": ".py",
   "mimetype": "text/x-python",
   "name": "python",
   "nbconvert_exporter": "python",
   "pygments_lexer": "ipython3",
   "version": "3.8.8"
  }
 },
 "nbformat": 4,
 "nbformat_minor": 5
}
