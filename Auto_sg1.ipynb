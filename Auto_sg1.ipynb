{
 "cells": [
  {
   "cell_type": "code",
   "execution_count": 2,
   "id": "40354528",
   "metadata": {},
   "outputs": [],
   "source": [
    "import numpy\n",
    "import astropy.io.fits as fits\n"
   ]
  },
  {
   "cell_type": "code",
   "execution_count": 3,
   "id": "ee110704",
   "metadata": {},
   "outputs": [],
   "source": [
    "fits_image_filename = 'ztf_20180411467847_000535_zr_c11_o_q3_sciimg.fits'\n",
    "hdul = fits.open(fits_image_filename)"
   ]
  },
  {
   "cell_type": "code",
   "execution_count": null,
   "id": "82032fc9",
   "metadata": {},
   "outputs": [],
   "source": []
  }
 ],
 "metadata": {
  "kernelspec": {
   "display_name": "Python 3",
   "language": "python",
   "name": "python3"
  },
  "language_info": {
   "codemirror_mode": {
    "name": "ipython",
    "version": 3
   },
   "file_extension": ".py",
   "mimetype": "text/x-python",
   "name": "python",
   "nbconvert_exporter": "python",
   "pygments_lexer": "ipython3",
   "version": "3.8.8"
  }
 },
 "nbformat": 4,
 "nbformat_minor": 5
}
